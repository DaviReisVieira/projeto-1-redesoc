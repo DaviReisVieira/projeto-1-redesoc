{
 "cells": [
  {
   "cell_type": "code",
   "execution_count": 3,
   "metadata": {},
   "outputs": [
    {
     "data": {
      "text/html": [
       "\n",
       "    <script src=\"/files/netpixi.min.js\"></script>\n"
      ],
      "text/plain": [
       "<IPython.core.display.HTML object>"
      ]
     },
     "metadata": {},
     "output_type": "display_data"
    },
    {
     "data": {
      "text/html": [
       "\n",
       "        <div id=\"bZJSe3FMFFFLk7EA8VwQ8N\"></div>\n",
       "        <script>netpixi.render('bZJSe3FMFFFLk7EA8VwQ8N', 'reviews_july_ex.net.gz', 1.7777777777777777, true, false, false);</script>\n",
       "    "
      ],
      "text/plain": [
       "<IPython.core.display.HTML object>"
      ]
     },
     "metadata": {},
     "output_type": "display_data"
    }
   ],
   "source": [
    "import netpixi\n",
    "\n",
    "from netpixi.integration.gt import *\n",
    "\n",
    "g = gt_load('reviews_july.net.gz')\n",
    "\n",
    "p = gt_draw.sfdp_layout(g)\n",
    "gt_move(g, p)\n",
    "gt_save(g, 'reviews_july_ex.net.gz')\n",
    "r = netpixi.render('reviews_july_ex.net.gz')"
   ]
  },
  {
   "cell_type": "code",
   "execution_count": 4,
   "metadata": {},
   "outputs": [],
   "source": [
    "import cpnet\n",
    "\n",
    "from graph_tool import spectral"
   ]
  },
  {
   "cell_type": "code",
   "execution_count": null,
   "metadata": {},
   "outputs": [],
   "source": [
    "matrix = spectral.adjacency(g)\n",
    "\n",
    "# Além de cpnet.Surprise, há outras\n",
    "# opções de algoritmos discretos:\n",
    "# cpnet.BE\n",
    "# cpnet.Lip\n",
    "# cpnet.LapCore\n",
    "# cpnet.LapSgnCore\n",
    "# cpnet.LowRankCore\n",
    "\n",
    "algorithm = cpnet.BE()\n",
    "algorithm.detect(matrix)\n",
    "c = algorithm.get_coreness()\n",
    "\n",
    "# Depois do código acima, c é um dicionário\n",
    "# em que as chaves são índices de vértices e\n",
    "# valores são os atribuídos pelo algoritmo.\n",
    "\n",
    "g.add_vp('core')\n",
    "for i, coreness in c.items():\n",
    "    v = g.get_vertex_by_index(i)\n",
    "    v['core'] = int(coreness)\n",
    "    \n",
    "# Vamos pintar de vermelho todos os vértices\n",
    "# identificados como centro e de verde todos\n",
    "# os vértices identificados como periferia.\n",
    "    \n",
    "for v in g.all_vertices():\n",
    "    if v['core'] == 1:\n",
    "        r.vertex(v['id'], color=0xff0000)\n",
    "    else:\n",
    "        r.vertex(v['id'], color=0x00ff00)\n",
    "\n",
    "# Quando a execução desta célula terminar,\n",
    "# veja como ficou a visualização acima."
   ]
  },
  {
   "cell_type": "code",
   "execution_count": null,
   "metadata": {},
   "outputs": [],
   "source": []
  }
 ],
 "metadata": {
  "kernelspec": {
   "display_name": "Python 3 (ipykernel)",
   "language": "python",
   "name": "python3"
  },
  "language_info": {
   "codemirror_mode": {
    "name": "ipython",
    "version": 3
   },
   "file_extension": ".py",
   "mimetype": "text/x-python",
   "name": "python",
   "nbconvert_exporter": "python",
   "pygments_lexer": "ipython3",
   "version": "3.10.6"
  },
  "vscode": {
   "interpreter": {
    "hash": "986e0f0faee2c6c6a84d3f1e3259f0c117ebe69f65dcb1f0188f6f439ac2fdb9"
   }
  }
 },
 "nbformat": 4,
 "nbformat_minor": 2
}
