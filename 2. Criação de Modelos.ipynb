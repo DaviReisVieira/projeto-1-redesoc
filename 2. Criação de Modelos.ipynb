{
 "cells": [
  {
   "cell_type": "markdown",
   "metadata": {},
   "source": [
    "\n",
    "# Projeto 1 - Redes Sociais\n",
    "\n",
    "## Criação de Modelos"
   ]
  },
  {
   "cell_type": "markdown",
   "metadata": {},
   "source": [
    "## Alunos\n",
    "\n",
    "<table>\n",
    "  <tr>\n",
    "    <td align=\"center\"><a href=\"https://github.com/DaviReisVieira\"><img style=\"border-radius: 50%;\" src=\"https://github.com/DaviReisVieira.png\" width=\"100px;\" alt=\"\"/><br /><sub><b>Davi Reis Vieira</b></sub></a><br /><a href=\"https://github.com/DaviReisVieira\" title=\"Davi Reis Vieira\">O Cara -1</a></td>\n",
    "    <td align=\"center\"><a href=\"https://github.com/guishas\"><img style=\"border-radius: 50%;\" src=\"https://github.com/guishas.png\" width=\"100px;\" alt=\"\"/><br /><sub><b>Guilherme Lunetta</b></sub></a><br /><a href=\"https://github.com/guishas\" title=\"Guilherme Lunetta\">O cara 0</a></td>\n",
    "    <td align=\"center\"><a href=\"https://github.com/josermf2\"><img style=\"border-radius: 50%;\" src=\"https://github.com/josermf2.png\" width=\"100px;\" alt=\"\"/><br /><sub><b>José Fernandes</b></sub></a><br /><a href=\"https://github.com/josermf2\" title=\"José Fernandes\">O cara +1</a></td>\n",
    "  </tr>\n",
    "</table>"
   ]
  },
  {
   "cell_type": "markdown",
   "metadata": {},
   "source": [
    "## Importando o dataset"
   ]
  },
  {
   "cell_type": "markdown",
   "metadata": {},
   "source": [
    "- Importando bibliotecas"
   ]
  },
  {
   "cell_type": "code",
   "execution_count": 71,
   "metadata": {},
   "outputs": [],
   "source": [
    "import json\n",
    "import numpy as np\n",
    "import pandas as pd\n",
    "import matplotlib.pyplot as plt"
   ]
  },
  {
   "cell_type": "code",
   "execution_count": 72,
   "metadata": {},
   "outputs": [
    {
     "data": {
      "text/html": [
       "<div>\n",
       "<style scoped>\n",
       "    .dataframe tbody tr th:only-of-type {\n",
       "        vertical-align: middle;\n",
       "    }\n",
       "\n",
       "    .dataframe tbody tr th {\n",
       "        vertical-align: top;\n",
       "    }\n",
       "\n",
       "    .dataframe thead th {\n",
       "        text-align: right;\n",
       "    }\n",
       "</style>\n",
       "<table border=\"1\" class=\"dataframe\">\n",
       "  <thead>\n",
       "    <tr style=\"text-align: right;\">\n",
       "      <th></th>\n",
       "      <th>app_id</th>\n",
       "      <th>app_name</th>\n",
       "      <th>review_id</th>\n",
       "      <th>language</th>\n",
       "      <th>review</th>\n",
       "      <th>timestamp_created</th>\n",
       "      <th>timestamp_updated</th>\n",
       "      <th>recommended</th>\n",
       "      <th>votes_helpful</th>\n",
       "      <th>votes_funny</th>\n",
       "      <th>...</th>\n",
       "      <th>steam_purchase</th>\n",
       "      <th>received_for_free</th>\n",
       "      <th>written_during_early_access</th>\n",
       "      <th>author.steamid</th>\n",
       "      <th>author.num_games_owned</th>\n",
       "      <th>author.num_reviews</th>\n",
       "      <th>author.playtime_forever</th>\n",
       "      <th>author.playtime_last_two_weeks</th>\n",
       "      <th>author.playtime_at_review</th>\n",
       "      <th>author.last_played</th>\n",
       "    </tr>\n",
       "  </thead>\n",
       "  <tbody>\n",
       "    <tr>\n",
       "      <th>0</th>\n",
       "      <td>292030</td>\n",
       "      <td>The Witcher 3: Wild Hunt</td>\n",
       "      <td>73579864</td>\n",
       "      <td>brazilian</td>\n",
       "      <td>I'll only speak about performance, since we al...</td>\n",
       "      <td>2020-07-31 22:19:22</td>\n",
       "      <td>2020-07-31 22:19:22</td>\n",
       "      <td>True</td>\n",
       "      <td>0</td>\n",
       "      <td>0</td>\n",
       "      <td>...</td>\n",
       "      <td>True</td>\n",
       "      <td>False</td>\n",
       "      <td>False</td>\n",
       "      <td>76561198074616040</td>\n",
       "      <td>148</td>\n",
       "      <td>12</td>\n",
       "      <td>29259.0</td>\n",
       "      <td>0.0</td>\n",
       "      <td>18588.0</td>\n",
       "      <td>1.597875e+09</td>\n",
       "    </tr>\n",
       "    <tr>\n",
       "      <th>1</th>\n",
       "      <td>292030</td>\n",
       "      <td>The Witcher 3: Wild Hunt</td>\n",
       "      <td>73576952</td>\n",
       "      <td>brazilian</td>\n",
       "      <td>Não tenho palavras para dizer como esse jogo e...</td>\n",
       "      <td>2020-07-31 20:46:46</td>\n",
       "      <td>2020-07-31 20:48:04</td>\n",
       "      <td>True</td>\n",
       "      <td>1</td>\n",
       "      <td>0</td>\n",
       "      <td>...</td>\n",
       "      <td>True</td>\n",
       "      <td>False</td>\n",
       "      <td>False</td>\n",
       "      <td>76561198120075031</td>\n",
       "      <td>38</td>\n",
       "      <td>9</td>\n",
       "      <td>4389.0</td>\n",
       "      <td>0.0</td>\n",
       "      <td>4389.0</td>\n",
       "      <td>1.557089e+09</td>\n",
       "    </tr>\n",
       "    <tr>\n",
       "      <th>2</th>\n",
       "      <td>292030</td>\n",
       "      <td>The Witcher 3: Wild Hunt</td>\n",
       "      <td>73575959</td>\n",
       "      <td>brazilian</td>\n",
       "      <td>Epic</td>\n",
       "      <td>2020-07-31 20:17:38</td>\n",
       "      <td>2020-07-31 20:17:38</td>\n",
       "      <td>True</td>\n",
       "      <td>0</td>\n",
       "      <td>0</td>\n",
       "      <td>...</td>\n",
       "      <td>True</td>\n",
       "      <td>False</td>\n",
       "      <td>False</td>\n",
       "      <td>76561198101494872</td>\n",
       "      <td>25</td>\n",
       "      <td>1</td>\n",
       "      <td>6653.0</td>\n",
       "      <td>0.0</td>\n",
       "      <td>4136.0</td>\n",
       "      <td>1.608502e+09</td>\n",
       "    </tr>\n",
       "    <tr>\n",
       "      <th>3</th>\n",
       "      <td>292030</td>\n",
       "      <td>The Witcher 3: Wild Hunt</td>\n",
       "      <td>73575666</td>\n",
       "      <td>brazilian</td>\n",
       "      <td>Melhor jogo do fucking universo, compre isso e...</td>\n",
       "      <td>2020-07-31 20:09:24</td>\n",
       "      <td>2020-07-31 20:09:24</td>\n",
       "      <td>True</td>\n",
       "      <td>1</td>\n",
       "      <td>0</td>\n",
       "      <td>...</td>\n",
       "      <td>True</td>\n",
       "      <td>False</td>\n",
       "      <td>False</td>\n",
       "      <td>76561198032616918</td>\n",
       "      <td>80</td>\n",
       "      <td>2</td>\n",
       "      <td>24894.0</td>\n",
       "      <td>0.0</td>\n",
       "      <td>18568.0</td>\n",
       "      <td>1.608581e+09</td>\n",
       "    </tr>\n",
       "    <tr>\n",
       "      <th>4</th>\n",
       "      <td>292030</td>\n",
       "      <td>The Witcher 3: Wild Hunt</td>\n",
       "      <td>73574848</td>\n",
       "      <td>brazilian</td>\n",
       "      <td>Um dos melhores games já feito.</td>\n",
       "      <td>2020-07-31 19:45:16</td>\n",
       "      <td>2020-07-31 19:45:16</td>\n",
       "      <td>True</td>\n",
       "      <td>1</td>\n",
       "      <td>0</td>\n",
       "      <td>...</td>\n",
       "      <td>True</td>\n",
       "      <td>False</td>\n",
       "      <td>False</td>\n",
       "      <td>76561198276339634</td>\n",
       "      <td>37</td>\n",
       "      <td>4</td>\n",
       "      <td>7796.0</td>\n",
       "      <td>0.0</td>\n",
       "      <td>7755.0</td>\n",
       "      <td>1.596227e+09</td>\n",
       "    </tr>\n",
       "  </tbody>\n",
       "</table>\n",
       "<p>5 rows × 22 columns</p>\n",
       "</div>"
      ],
      "text/plain": [
       "   app_id                  app_name  review_id   language  \\\n",
       "0  292030  The Witcher 3: Wild Hunt   73579864  brazilian   \n",
       "1  292030  The Witcher 3: Wild Hunt   73576952  brazilian   \n",
       "2  292030  The Witcher 3: Wild Hunt   73575959  brazilian   \n",
       "3  292030  The Witcher 3: Wild Hunt   73575666  brazilian   \n",
       "4  292030  The Witcher 3: Wild Hunt   73574848  brazilian   \n",
       "\n",
       "                                              review    timestamp_created  \\\n",
       "0  I'll only speak about performance, since we al...  2020-07-31 22:19:22   \n",
       "1  Não tenho palavras para dizer como esse jogo e...  2020-07-31 20:46:46   \n",
       "2                                               Epic  2020-07-31 20:17:38   \n",
       "3  Melhor jogo do fucking universo, compre isso e...  2020-07-31 20:09:24   \n",
       "4                    Um dos melhores games já feito.  2020-07-31 19:45:16   \n",
       "\n",
       "     timestamp_updated  recommended  votes_helpful  votes_funny  ...  \\\n",
       "0  2020-07-31 22:19:22         True              0            0  ...   \n",
       "1  2020-07-31 20:48:04         True              1            0  ...   \n",
       "2  2020-07-31 20:17:38         True              0            0  ...   \n",
       "3  2020-07-31 20:09:24         True              1            0  ...   \n",
       "4  2020-07-31 19:45:16         True              1            0  ...   \n",
       "\n",
       "   steam_purchase  received_for_free  written_during_early_access  \\\n",
       "0            True              False                        False   \n",
       "1            True              False                        False   \n",
       "2            True              False                        False   \n",
       "3            True              False                        False   \n",
       "4            True              False                        False   \n",
       "\n",
       "      author.steamid  author.num_games_owned  author.num_reviews  \\\n",
       "0  76561198074616040                     148                  12   \n",
       "1  76561198120075031                      38                   9   \n",
       "2  76561198101494872                      25                   1   \n",
       "3  76561198032616918                      80                   2   \n",
       "4  76561198276339634                      37                   4   \n",
       "\n",
       "   author.playtime_forever  author.playtime_last_two_weeks  \\\n",
       "0                  29259.0                             0.0   \n",
       "1                   4389.0                             0.0   \n",
       "2                   6653.0                             0.0   \n",
       "3                  24894.0                             0.0   \n",
       "4                   7796.0                             0.0   \n",
       "\n",
       "   author.playtime_at_review  author.last_played  \n",
       "0                    18588.0        1.597875e+09  \n",
       "1                     4389.0        1.557089e+09  \n",
       "2                     4136.0        1.608502e+09  \n",
       "3                    18568.0        1.608581e+09  \n",
       "4                     7755.0        1.596227e+09  \n",
       "\n",
       "[5 rows x 22 columns]"
      ]
     },
     "execution_count": 72,
     "metadata": {},
     "output_type": "execute_result"
    }
   ],
   "source": [
    "df = pd.read_csv('reviews_july.csv')\n",
    "df.head()"
   ]
  },
  {
   "cell_type": "code",
   "execution_count": 73,
   "metadata": {},
   "outputs": [
    {
     "name": "stdout",
     "output_type": "stream",
     "text": [
      "<class 'pandas.core.frame.DataFrame'>\n",
      "RangeIndex: 80068 entries, 0 to 80067\n",
      "Data columns (total 22 columns):\n",
      " #   Column                          Non-Null Count  Dtype  \n",
      "---  ------                          --------------  -----  \n",
      " 0   app_id                          80068 non-null  int64  \n",
      " 1   app_name                        80068 non-null  object \n",
      " 2   review_id                       80068 non-null  int64  \n",
      " 3   language                        80068 non-null  object \n",
      " 4   review                          80025 non-null  object \n",
      " 5   timestamp_created               80068 non-null  object \n",
      " 6   timestamp_updated               80068 non-null  object \n",
      " 7   recommended                     80068 non-null  bool   \n",
      " 8   votes_helpful                   80068 non-null  int64  \n",
      " 9   votes_funny                     80068 non-null  int64  \n",
      " 10  weighted_vote_score             80068 non-null  float64\n",
      " 11  comment_count                   80068 non-null  int64  \n",
      " 12  steam_purchase                  80068 non-null  bool   \n",
      " 13  received_for_free               80068 non-null  bool   \n",
      " 14  written_during_early_access     80068 non-null  bool   \n",
      " 15  author.steamid                  80068 non-null  int64  \n",
      " 16  author.num_games_owned          80068 non-null  int64  \n",
      " 17  author.num_reviews              80068 non-null  int64  \n",
      " 18  author.playtime_forever         80068 non-null  float64\n",
      " 19  author.playtime_last_two_weeks  80068 non-null  float64\n",
      " 20  author.playtime_at_review       80028 non-null  float64\n",
      " 21  author.last_played              80068 non-null  float64\n",
      "dtypes: bool(4), float64(5), int64(8), object(5)\n",
      "memory usage: 11.3+ MB\n"
     ]
    }
   ],
   "source": [
    "df.info()"
   ]
  },
  {
   "cell_type": "markdown",
   "metadata": {},
   "source": [
    "## Tratando os dados"
   ]
  },
  {
   "cell_type": "code",
   "execution_count": 74,
   "metadata": {},
   "outputs": [
    {
     "name": "stderr",
     "output_type": "stream",
     "text": [
      "/tmp/ipykernel_12/2262415099.py:1: FutureWarning: The default value of regex will change from True to False in a future version. In addition, single character regular expressions will *not* be treated as literal strings when regex=True.\n",
      "  df.columns = df.columns.str.replace('.', '_')\n"
     ]
    }
   ],
   "source": [
    "df.columns = df.columns.str.replace('.', '_')"
   ]
  },
  {
   "cell_type": "markdown",
   "metadata": {},
   "source": [
    "- Convertendo a coluna `recommended` para inteiro"
   ]
  },
  {
   "cell_type": "code",
   "execution_count": 75,
   "metadata": {},
   "outputs": [],
   "source": [
    "df['recommended'] = df['recommended'].astype(int)"
   ]
  },
  {
   "cell_type": "code",
   "execution_count": 76,
   "metadata": {},
   "outputs": [
    {
     "name": "stdout",
     "output_type": "stream",
     "text": [
      "<class 'pandas.core.frame.DataFrame'>\n",
      "RangeIndex: 80068 entries, 0 to 80067\n",
      "Data columns (total 22 columns):\n",
      " #   Column                          Non-Null Count  Dtype  \n",
      "---  ------                          --------------  -----  \n",
      " 0   app_id                          80068 non-null  int64  \n",
      " 1   app_name                        80068 non-null  object \n",
      " 2   review_id                       80068 non-null  int64  \n",
      " 3   language                        80068 non-null  object \n",
      " 4   review                          80025 non-null  object \n",
      " 5   timestamp_created               80068 non-null  object \n",
      " 6   timestamp_updated               80068 non-null  object \n",
      " 7   recommended                     80068 non-null  int64  \n",
      " 8   votes_helpful                   80068 non-null  int64  \n",
      " 9   votes_funny                     80068 non-null  int64  \n",
      " 10  weighted_vote_score             80068 non-null  float64\n",
      " 11  comment_count                   80068 non-null  int64  \n",
      " 12  steam_purchase                  80068 non-null  bool   \n",
      " 13  received_for_free               80068 non-null  bool   \n",
      " 14  written_during_early_access     80068 non-null  bool   \n",
      " 15  author_steamid                  80068 non-null  int64  \n",
      " 16  author_num_games_owned          80068 non-null  int64  \n",
      " 17  author_num_reviews              80068 non-null  int64  \n",
      " 18  author_playtime_forever         80068 non-null  float64\n",
      " 19  author_playtime_last_two_weeks  80068 non-null  float64\n",
      " 20  author_playtime_at_review       80028 non-null  float64\n",
      " 21  author_last_played              80068 non-null  float64\n",
      "dtypes: bool(3), float64(5), int64(9), object(5)\n",
      "memory usage: 11.8+ MB\n"
     ]
    }
   ],
   "source": [
    "df.info()"
   ]
  },
  {
   "cell_type": "markdown",
   "metadata": {},
   "source": [
    "## Criando a variável de controle `Nível de Positividade por Usuário`"
   ]
  },
  {
   "cell_type": "code",
   "execution_count": 78,
   "metadata": {},
   "outputs": [],
   "source": [
    "df['level_of_positivite'] = df.groupby('author_steamid')['recommended'].transform(lambda x: x.sum() / x.count())"
   ]
  },
  {
   "cell_type": "markdown",
   "metadata": {},
   "source": [
    "## Carregando a rede criada previamente"
   ]
  },
  {
   "cell_type": "code",
   "execution_count": 79,
   "metadata": {},
   "outputs": [
    {
     "data": {
      "text/html": [
       "\n",
       "        <div id=\"LwmSh9vRBGQgfLvya4dZMw\"></div>\n",
       "        <script>netpixi.render('LwmSh9vRBGQgfLvya4dZMw', 'reviews_july_render.net.gz', 1.7777777777777777, true, false, false);</script>\n",
       "    "
      ],
      "text/plain": [
       "<IPython.core.display.HTML object>"
      ]
     },
     "metadata": {},
     "output_type": "display_data"
    }
   ],
   "source": [
    "import netpixi\n",
    "\n",
    "from netpixi.integration.gt import *\n",
    "\n",
    "g = gt_load('reviews_july.net.gz')\n",
    "\n",
    "p = gt_draw.sfdp_layout(g)\n",
    "gt_move(g, p)\n",
    "gt_save(g, 'reviews_july_render.net.gz')\n",
    "r = netpixi.render('reviews_july_render.net.gz')"
   ]
  },
  {
   "cell_type": "markdown",
   "metadata": {},
   "source": [
    "## Criando métricas de rede Centro-Periferia"
   ]
  },
  {
   "cell_type": "markdown",
   "metadata": {},
   "source": [
    "Para identificar centro e periferia de um grafo, podemos usar a biblioteca [cpnet](https://github.com/skojaku/core-periphery-detection) em conjunto com o módulo spectral da graph_tool."
   ]
  },
  {
   "cell_type": "code",
   "execution_count": 80,
   "metadata": {},
   "outputs": [
    {
     "name": "stderr",
     "output_type": "stream",
     "text": [
      "<frozen importlib._bootstrap>:914: ImportWarning: VendorImporter.find_spec() not found; falling back to find_module()\n"
     ]
    }
   ],
   "source": [
    "import cpnet\n",
    "\n",
    "from graph_tool import spectral"
   ]
  },
  {
   "cell_type": "markdown",
   "metadata": {},
   "source": [
    "- Função para criar métrica `Centro-periferia`"
   ]
  },
  {
   "cell_type": "code",
   "execution_count": 81,
   "metadata": {},
   "outputs": [],
   "source": [
    "df_copy = df.copy()"
   ]
  },
  {
   "cell_type": "markdown",
   "metadata": {},
   "source": [
    "------------------"
   ]
  },
  {
   "cell_type": "markdown",
   "metadata": {},
   "source": [
    "## Realizando as regressões e salvando os resultados"
   ]
  },
  {
   "cell_type": "code",
   "execution_count": 82,
   "metadata": {},
   "outputs": [],
   "source": [
    "import regression as reg"
   ]
  },
  {
   "cell_type": "code",
   "execution_count": 83,
   "metadata": {},
   "outputs": [
    {
     "name": "stdout",
     "output_type": "stream",
     "text": [
      "<class 'pandas.core.frame.DataFrame'>\n",
      "RangeIndex: 80068 entries, 0 to 80067\n",
      "Data columns (total 23 columns):\n",
      " #   Column                          Non-Null Count  Dtype  \n",
      "---  ------                          --------------  -----  \n",
      " 0   app_id                          80068 non-null  int64  \n",
      " 1   app_name                        80068 non-null  object \n",
      " 2   review_id                       80068 non-null  int64  \n",
      " 3   language                        80068 non-null  object \n",
      " 4   review                          80025 non-null  object \n",
      " 5   timestamp_created               80068 non-null  object \n",
      " 6   timestamp_updated               80068 non-null  object \n",
      " 7   recommended                     80068 non-null  int64  \n",
      " 8   votes_helpful                   80068 non-null  int64  \n",
      " 9   votes_funny                     80068 non-null  int64  \n",
      " 10  weighted_vote_score             80068 non-null  float64\n",
      " 11  comment_count                   80068 non-null  int64  \n",
      " 12  steam_purchase                  80068 non-null  bool   \n",
      " 13  received_for_free               80068 non-null  bool   \n",
      " 14  written_during_early_access     80068 non-null  bool   \n",
      " 15  author_steamid                  80068 non-null  int64  \n",
      " 16  author_num_games_owned          80068 non-null  int64  \n",
      " 17  author_num_reviews              80068 non-null  int64  \n",
      " 18  author_playtime_forever         80068 non-null  float64\n",
      " 19  author_playtime_last_two_weeks  80068 non-null  float64\n",
      " 20  author_playtime_at_review       80028 non-null  float64\n",
      " 21  author_last_played              80068 non-null  float64\n",
      " 22  level_of_positivite             80068 non-null  float64\n",
      "dtypes: bool(3), float64(6), int64(9), object(5)\n",
      "memory usage: 12.4+ MB\n"
     ]
    }
   ],
   "source": [
    "df_copy.info()"
   ]
  },
  {
   "cell_type": "code",
   "execution_count": 90,
   "metadata": {},
   "outputs": [
    {
     "name": "stdout",
     "output_type": "stream",
     "text": [
      "Optimization terminated successfully.\n",
      "         Current function value: 0.015784\n",
      "         Iterations 11\n"
     ]
    },
    {
     "data": {
      "text/html": [
       "<style type=\"text/css\">\n",
       "</style>\n",
       "<table id=\"T_e13ae\">\n",
       "  <thead>\n",
       "    <tr>\n",
       "      <th id=\"T_e13ae_level0_col0\" class=\"col_heading level0 col0\" >variable</th>\n",
       "      <th id=\"T_e13ae_level0_col1\" class=\"col_heading level0 col1\" >coefficient</th>\n",
       "      <th id=\"T_e13ae_level0_col2\" class=\"col_heading level0 col2\" >std error</th>\n",
       "      <th id=\"T_e13ae_level0_col3\" class=\"col_heading level0 col3\" >p-value</th>\n",
       "    </tr>\n",
       "  </thead>\n",
       "  <tbody>\n",
       "    <tr>\n",
       "      <td id=\"T_e13ae_row0_col0\" class=\"data row0 col0\" >author_playtime_forever</td>\n",
       "      <td id=\"T_e13ae_row0_col1\" class=\"data row0 col1\" >0.000003</td>\n",
       "      <td id=\"T_e13ae_row0_col2\" class=\"data row0 col2\" >0.000002</td>\n",
       "      <td id=\"T_e13ae_row0_col3\" class=\"data row0 col3\" >0.194154</td>\n",
       "    </tr>\n",
       "    <tr>\n",
       "      <td id=\"T_e13ae_row1_col0\" class=\"data row1 col0\" >level_of_positivite</td>\n",
       "      <td id=\"T_e13ae_row1_col1\" class=\"data row1 col1\" >14.706233</td>\n",
       "      <td id=\"T_e13ae_row1_col2\" class=\"data row1 col2\" >0.271371</td>\n",
       "      <td id=\"T_e13ae_row1_col3\" class=\"data row1 col3\" >0.000000</td>\n",
       "    </tr>\n",
       "  </tbody>\n",
       "</table>\n"
      ],
      "text/plain": [
       "<pandas.io.formats.style.Styler at 0x7f59a473f7f0>"
      ]
     },
     "execution_count": 90,
     "metadata": {},
     "output_type": "execute_result"
    }
   ],
   "source": [
    "results_a = reg.logistic(data=df_copy, formula='recommended ~ author_playtime_forever + level_of_positivite')\n",
    "results_a.micro_summary()"
   ]
  },
  {
   "cell_type": "code",
   "execution_count": 91,
   "metadata": {},
   "outputs": [
    {
     "name": "stdout",
     "output_type": "stream",
     "text": [
      "0.35% of average residuals inside\n"
     ]
    },
    {
     "data": {
      "image/png": "[encoded data removed]",
      "text/plain": [
       "<Figure size 640x480 with 1 Axes>"
      ]
     },
     "metadata": {},
     "output_type": "display_data"
    }
   ],
   "source": [
    "results_a.plot_residuals()"
   ]
  },
  {
   "cell_type": "code",
   "execution_count": 86,
   "metadata": {},
   "outputs": [
    {
     "name": "stdout",
     "output_type": "stream",
     "text": [
      "Optimization terminated successfully.\n",
      "         Current function value: 0.014880\n",
      "         Iterations 11\n"
     ]
    },
    {
     "data": {
      "text/html": [
       "<style type=\"text/css\">\n",
       "</style>\n",
       "<table id=\"T_f1f07\">\n",
       "  <thead>\n",
       "    <tr>\n",
       "      <th id=\"T_f1f07_level0_col0\" class=\"col_heading level0 col0\" >variable</th>\n",
       "      <th id=\"T_f1f07_level0_col1\" class=\"col_heading level0 col1\" >coefficient</th>\n",
       "      <th id=\"T_f1f07_level0_col2\" class=\"col_heading level0 col2\" >std error</th>\n",
       "      <th id=\"T_f1f07_level0_col3\" class=\"col_heading level0 col3\" >p-value</th>\n",
       "    </tr>\n",
       "  </thead>\n",
       "  <tbody>\n",
       "    <tr>\n",
       "      <td id=\"T_f1f07_row0_col0\" class=\"data row0 col0\" >received_for_free[T.True]</td>\n",
       "      <td id=\"T_f1f07_row0_col1\" class=\"data row0 col1\" >1.822308</td>\n",
       "      <td id=\"T_f1f07_row0_col2\" class=\"data row0 col2\" >0.167336</td>\n",
       "      <td id=\"T_f1f07_row0_col3\" class=\"data row0 col3\" >0.000000</td>\n",
       "    </tr>\n",
       "    <tr>\n",
       "      <td id=\"T_f1f07_row1_col0\" class=\"data row1 col0\" >level_of_positivite</td>\n",
       "      <td id=\"T_f1f07_row1_col1\" class=\"data row1 col1\" >14.917310</td>\n",
       "      <td id=\"T_f1f07_row1_col2\" class=\"data row1 col2\" >0.281610</td>\n",
       "      <td id=\"T_f1f07_row1_col3\" class=\"data row1 col3\" >0.000000</td>\n",
       "    </tr>\n",
       "  </tbody>\n",
       "</table>\n"
      ],
      "text/plain": [
       "<pandas.io.formats.style.Styler at 0x7f59a4fbb580>"
      ]
     },
     "execution_count": 86,
     "metadata": {},
     "output_type": "execute_result"
    }
   ],
   "source": [
    "results_b = reg.logistic(data=df_copy, formula='recommended ~ received_for_free + level_of_positivite')\n",
    "results_b.micro_summary()"
   ]
  },
  {
   "cell_type": "code",
   "execution_count": 87,
   "metadata": {},
   "outputs": [
    {
     "name": "stdout",
     "output_type": "stream",
     "text": [
      "0.35% of average residuals inside\n"
     ]
    },
    {
     "data": {
      "image/png": "[encoded data removed]",
      "text/plain": [
       "<Figure size 640x480 with 1 Axes>"
      ]
     },
     "metadata": {},
     "output_type": "display_data"
    }
   ],
   "source": [
    "results_b.plot_residuals()"
   ]
  },
  {
   "cell_type": "code",
   "execution_count": 88,
   "metadata": {},
   "outputs": [
    {
     "name": "stdout",
     "output_type": "stream",
     "text": [
      "Optimization terminated successfully.\n",
      "         Current function value: 0.014871\n",
      "         Iterations 11\n"
     ]
    },
    {
     "data": {
      "text/html": [
       "<style type=\"text/css\">\n",
       "</style>\n",
       "<table id=\"T_294a4\">\n",
       "  <thead>\n",
       "    <tr>\n",
       "      <th id=\"T_294a4_level0_col0\" class=\"col_heading level0 col0\" >variable</th>\n",
       "      <th id=\"T_294a4_level0_col1\" class=\"col_heading level0 col1\" >coefficient</th>\n",
       "      <th id=\"T_294a4_level0_col2\" class=\"col_heading level0 col2\" >std error</th>\n",
       "      <th id=\"T_294a4_level0_col3\" class=\"col_heading level0 col3\" >p-value</th>\n",
       "    </tr>\n",
       "  </thead>\n",
       "  <tbody>\n",
       "    <tr>\n",
       "      <td id=\"T_294a4_row0_col0\" class=\"data row0 col0\" >received_for_free[T.True]</td>\n",
       "      <td id=\"T_294a4_row0_col1\" class=\"data row0 col1\" >1.817361</td>\n",
       "      <td id=\"T_294a4_row0_col2\" class=\"data row0 col2\" >0.167397</td>\n",
       "      <td id=\"T_294a4_row0_col3\" class=\"data row0 col3\" >0.000000</td>\n",
       "    </tr>\n",
       "    <tr>\n",
       "      <td id=\"T_294a4_row1_col0\" class=\"data row1 col0\" >author_playtime_forever</td>\n",
       "      <td id=\"T_294a4_row1_col1\" class=\"data row1 col1\" >0.000002</td>\n",
       "      <td id=\"T_294a4_row1_col2\" class=\"data row1 col2\" >0.000002</td>\n",
       "      <td id=\"T_294a4_row1_col3\" class=\"data row1 col3\" >0.305249</td>\n",
       "    </tr>\n",
       "    <tr>\n",
       "      <td id=\"T_294a4_row2_col0\" class=\"data row2 col0\" >level_of_positivite</td>\n",
       "      <td id=\"T_294a4_row2_col1\" class=\"data row2 col1\" >14.909891</td>\n",
       "      <td id=\"T_294a4_row2_col2\" class=\"data row2 col2\" >0.281710</td>\n",
       "      <td id=\"T_294a4_row2_col3\" class=\"data row2 col3\" >0.000000</td>\n",
       "    </tr>\n",
       "  </tbody>\n",
       "</table>\n"
      ],
      "text/plain": [
       "<pandas.io.formats.style.Styler at 0x7f59a4b7f190>"
      ]
     },
     "execution_count": 88,
     "metadata": {},
     "output_type": "execute_result"
    }
   ],
   "source": [
    "results_e = reg.logistic(data=df_copy, formula='recommended ~ author_playtime_forever + received_for_free + level_of_positivite')\n",
    "results_e.micro_summary()"
   ]
  },
  {
   "cell_type": "code",
   "execution_count": 89,
   "metadata": {},
   "outputs": [
    {
     "name": "stdout",
     "output_type": "stream",
     "text": [
      "0.35% of average residuals inside\n"
     ]
    },
    {
     "data": {
      "image/png": "[encoded data removed]",
      "text/plain": [
       "<Figure size 640x480 with 1 Axes>"
      ]
     },
     "metadata": {},
     "output_type": "display_data"
    }
   ],
   "source": [
    "results_e.plot_residuals()"
   ]
  },
  {
   "cell_type": "code",
   "execution_count": null,
   "metadata": {},
   "outputs": [],
   "source": []
  }
 ],
 "metadata": {
  "kernelspec": {
   "display_name": "Python 3 (ipykernel)",
   "language": "python",
   "name": "python3"
  },
  "language_info": {
   "codemirror_mode": {
    "name": "ipython",
    "version": 3
   },
   "file_extension": ".py",
   "mimetype": "text/x-python",
   "name": "python",
   "nbconvert_exporter": "python",
   "pygments_lexer": "ipython3",
   "version": "3.10.6"
  },
  "vscode": {
   "interpreter": {
    "hash": "986e0f0faee2c6c6a84d3f1e3259f0c117ebe69f65dcb1f0188f6f439ac2fdb9"
   }
  }
 },
 "nbformat": 4,
 "nbformat_minor": 2
}
