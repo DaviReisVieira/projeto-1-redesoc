{
 "cells": [
  {
   "cell_type": "code",
   "execution_count": 6,
   "metadata": {},
   "outputs": [],
   "source": [
    "import netpixi\n",
    "import json\n",
    "import numpy as np\n",
    "import pandas as pd\n",
    "import matplotlib.pyplot as plt"
   ]
  },
  {
   "cell_type": "code",
   "execution_count": 7,
   "metadata": {},
   "outputs": [],
   "source": [
    "df = pd.read_csv('reviews_april.csv', sep=',')"
   ]
  },
  {
   "cell_type": "code",
   "execution_count": 8,
   "metadata": {},
   "outputs": [
    {
     "data": {
      "text/html": [
       "<div>\n",
       "<style scoped>\n",
       "    .dataframe tbody tr th:only-of-type {\n",
       "        vertical-align: middle;\n",
       "    }\n",
       "\n",
       "    .dataframe tbody tr th {\n",
       "        vertical-align: top;\n",
       "    }\n",
       "\n",
       "    .dataframe thead th {\n",
       "        text-align: right;\n",
       "    }\n",
       "</style>\n",
       "<table border=\"1\" class=\"dataframe\">\n",
       "  <thead>\n",
       "    <tr style=\"text-align: right;\">\n",
       "      <th></th>\n",
       "      <th>app_id</th>\n",
       "      <th>app_name</th>\n",
       "      <th>review_id</th>\n",
       "      <th>language</th>\n",
       "      <th>review</th>\n",
       "      <th>timestamp_created</th>\n",
       "      <th>timestamp_updated</th>\n",
       "      <th>recommended</th>\n",
       "      <th>votes_helpful</th>\n",
       "      <th>votes_funny</th>\n",
       "      <th>...</th>\n",
       "      <th>steam_purchase</th>\n",
       "      <th>received_for_free</th>\n",
       "      <th>written_during_early_access</th>\n",
       "      <th>author.steamid</th>\n",
       "      <th>author.num_games_owned</th>\n",
       "      <th>author.num_reviews</th>\n",
       "      <th>author.playtime_forever</th>\n",
       "      <th>author.playtime_last_two_weeks</th>\n",
       "      <th>author.playtime_at_review</th>\n",
       "      <th>author.last_played</th>\n",
       "    </tr>\n",
       "  </thead>\n",
       "  <tbody>\n",
       "    <tr>\n",
       "      <th>0</th>\n",
       "      <td>292030</td>\n",
       "      <td>The Witcher 3: Wild Hunt</td>\n",
       "      <td>68330832</td>\n",
       "      <td>brazilian</td>\n",
       "      <td>Jogo excelente em todas as mecânicas, gráficos...</td>\n",
       "      <td>2020-04-30 23:52:54</td>\n",
       "      <td>2020-04-30 23:52:54</td>\n",
       "      <td>True</td>\n",
       "      <td>0</td>\n",
       "      <td>0</td>\n",
       "      <td>...</td>\n",
       "      <td>True</td>\n",
       "      <td>False</td>\n",
       "      <td>False</td>\n",
       "      <td>76561198159239276</td>\n",
       "      <td>26</td>\n",
       "      <td>2</td>\n",
       "      <td>9640.0</td>\n",
       "      <td>0.0</td>\n",
       "      <td>9009.0</td>\n",
       "      <td>1.588377e+09</td>\n",
       "    </tr>\n",
       "    <tr>\n",
       "      <th>1</th>\n",
       "      <td>292030</td>\n",
       "      <td>The Witcher 3: Wild Hunt</td>\n",
       "      <td>68329511</td>\n",
       "      <td>brazilian</td>\n",
       "      <td>o jogo é pika</td>\n",
       "      <td>2020-04-30 23:19:24</td>\n",
       "      <td>2020-04-30 23:19:24</td>\n",
       "      <td>True</td>\n",
       "      <td>0</td>\n",
       "      <td>0</td>\n",
       "      <td>...</td>\n",
       "      <td>True</td>\n",
       "      <td>False</td>\n",
       "      <td>False</td>\n",
       "      <td>76561198043602884</td>\n",
       "      <td>34</td>\n",
       "      <td>6</td>\n",
       "      <td>10299.0</td>\n",
       "      <td>0.0</td>\n",
       "      <td>2568.0</td>\n",
       "      <td>1.606605e+09</td>\n",
       "    </tr>\n",
       "    <tr>\n",
       "      <th>2</th>\n",
       "      <td>292030</td>\n",
       "      <td>The Witcher 3: Wild Hunt</td>\n",
       "      <td>68328796</td>\n",
       "      <td>brazilian</td>\n",
       "      <td>Nice</td>\n",
       "      <td>2020-04-30 23:01:10</td>\n",
       "      <td>2020-04-30 23:01:10</td>\n",
       "      <td>True</td>\n",
       "      <td>0</td>\n",
       "      <td>0</td>\n",
       "      <td>...</td>\n",
       "      <td>True</td>\n",
       "      <td>False</td>\n",
       "      <td>False</td>\n",
       "      <td>76561198134272383</td>\n",
       "      <td>21</td>\n",
       "      <td>5</td>\n",
       "      <td>783.0</td>\n",
       "      <td>0.0</td>\n",
       "      <td>619.0</td>\n",
       "      <td>1.609530e+09</td>\n",
       "    </tr>\n",
       "    <tr>\n",
       "      <th>3</th>\n",
       "      <td>292030</td>\n",
       "      <td>The Witcher 3: Wild Hunt</td>\n",
       "      <td>68327598</td>\n",
       "      <td>brazilian</td>\n",
       "      <td>muito bom</td>\n",
       "      <td>2020-04-30 22:30:41</td>\n",
       "      <td>2020-04-30 22:30:41</td>\n",
       "      <td>True</td>\n",
       "      <td>0</td>\n",
       "      <td>0</td>\n",
       "      <td>...</td>\n",
       "      <td>True</td>\n",
       "      <td>False</td>\n",
       "      <td>False</td>\n",
       "      <td>76561199006967739</td>\n",
       "      <td>12</td>\n",
       "      <td>2</td>\n",
       "      <td>5922.0</td>\n",
       "      <td>0.0</td>\n",
       "      <td>5533.0</td>\n",
       "      <td>1.590269e+09</td>\n",
       "    </tr>\n",
       "    <tr>\n",
       "      <th>4</th>\n",
       "      <td>292030</td>\n",
       "      <td>The Witcher 3: Wild Hunt</td>\n",
       "      <td>68325545</td>\n",
       "      <td>brazilian</td>\n",
       "      <td>Temática e história ricas de detalhes, um bom ...</td>\n",
       "      <td>2020-04-30 21:42:55</td>\n",
       "      <td>2020-04-30 21:42:55</td>\n",
       "      <td>True</td>\n",
       "      <td>0</td>\n",
       "      <td>0</td>\n",
       "      <td>...</td>\n",
       "      <td>True</td>\n",
       "      <td>False</td>\n",
       "      <td>False</td>\n",
       "      <td>76561198062670500</td>\n",
       "      <td>36</td>\n",
       "      <td>1</td>\n",
       "      <td>5192.0</td>\n",
       "      <td>0.0</td>\n",
       "      <td>1514.0</td>\n",
       "      <td>1.589417e+09</td>\n",
       "    </tr>\n",
       "  </tbody>\n",
       "</table>\n",
       "<p>5 rows × 22 columns</p>\n",
       "</div>"
      ],
      "text/plain": [
       "   app_id                  app_name  review_id   language  \\\n",
       "0  292030  The Witcher 3: Wild Hunt   68330832  brazilian   \n",
       "1  292030  The Witcher 3: Wild Hunt   68329511  brazilian   \n",
       "2  292030  The Witcher 3: Wild Hunt   68328796  brazilian   \n",
       "3  292030  The Witcher 3: Wild Hunt   68327598  brazilian   \n",
       "4  292030  The Witcher 3: Wild Hunt   68325545  brazilian   \n",
       "\n",
       "                                              review    timestamp_created  \\\n",
       "0  Jogo excelente em todas as mecânicas, gráficos...  2020-04-30 23:52:54   \n",
       "1                                      o jogo é pika  2020-04-30 23:19:24   \n",
       "2                                               Nice  2020-04-30 23:01:10   \n",
       "3                                          muito bom  2020-04-30 22:30:41   \n",
       "4  Temática e história ricas de detalhes, um bom ...  2020-04-30 21:42:55   \n",
       "\n",
       "     timestamp_updated  recommended  votes_helpful  votes_funny  ...  \\\n",
       "0  2020-04-30 23:52:54         True              0            0  ...   \n",
       "1  2020-04-30 23:19:24         True              0            0  ...   \n",
       "2  2020-04-30 23:01:10         True              0            0  ...   \n",
       "3  2020-04-30 22:30:41         True              0            0  ...   \n",
       "4  2020-04-30 21:42:55         True              0            0  ...   \n",
       "\n",
       "   steam_purchase  received_for_free  written_during_early_access  \\\n",
       "0            True              False                        False   \n",
       "1            True              False                        False   \n",
       "2            True              False                        False   \n",
       "3            True              False                        False   \n",
       "4            True              False                        False   \n",
       "\n",
       "      author.steamid  author.num_games_owned  author.num_reviews  \\\n",
       "0  76561198159239276                      26                   2   \n",
       "1  76561198043602884                      34                   6   \n",
       "2  76561198134272383                      21                   5   \n",
       "3  76561199006967739                      12                   2   \n",
       "4  76561198062670500                      36                   1   \n",
       "\n",
       "   author.playtime_forever  author.playtime_last_two_weeks  \\\n",
       "0                   9640.0                             0.0   \n",
       "1                  10299.0                             0.0   \n",
       "2                    783.0                             0.0   \n",
       "3                   5922.0                             0.0   \n",
       "4                   5192.0                             0.0   \n",
       "\n",
       "   author.playtime_at_review  author.last_played  \n",
       "0                     9009.0        1.588377e+09  \n",
       "1                     2568.0        1.606605e+09  \n",
       "2                      619.0        1.609530e+09  \n",
       "3                     5533.0        1.590269e+09  \n",
       "4                     1514.0        1.589417e+09  \n",
       "\n",
       "[5 rows x 22 columns]"
      ]
     },
     "execution_count": 8,
     "metadata": {},
     "output_type": "execute_result"
    }
   ],
   "source": [
    "df.head()"
   ]
  },
  {
   "cell_type": "code",
   "execution_count": 9,
   "metadata": {},
   "outputs": [],
   "source": [
    "def get_edges(df):\n",
    "    users = df['author.steamid'].unique()\n",
    "    \n",
    "    edges = []\n",
    "    for user in users:\n",
    "        games = df[df['author.steamid']==user]['app_name'].unique()\n",
    "        for game in games:\n",
    "            users_game = df[df['app_name']==game]['author.steamid'].unique()\n",
    "            for user_game in users_game:\n",
    "                if user_game != user:\n",
    "                    edges.append(tuple(sorted([user, user_game])))\n",
    "    \n",
    "    edges = np.array(edges)\n",
    "\n",
    "    edges, counts = np.unique(edges, axis=0, return_counts=True)\n",
    "\n",
    "    mean = np.mean(counts)\n",
    "\n",
    "    edges = edges[counts>mean]\n",
    "    \n",
    "    \n",
    "    return edges"
   ]
  },
  {
   "cell_type": "code",
   "execution_count": 61,
   "metadata": {},
   "outputs": [
    {
     "data": {
      "text/plain": [
       "array([[76561197960544484, 76561198098119486],\n",
       "       [76561197960544484, 76561198131459117],\n",
       "       [76561197960544484, 76561198168409304],\n",
       "       ...,\n",
       "       [76561199026950361, 76561199030327698],\n",
       "       [76561199029691049, 76561199046189961],\n",
       "       [76561199030327698, 76561199039810592]])"
      ]
     },
     "execution_count": 61,
     "metadata": {},
     "output_type": "execute_result"
    }
   ],
   "source": [
    "edges = get_edges(df)\n",
    "edges"
   ]
  },
  {
   "cell_type": "code",
   "execution_count": 90,
   "metadata": {},
   "outputs": [],
   "source": [
    "# save edges in json file\n",
    "with open('edges.json', 'w') as f:\n",
    "    json.dump(edges.tolist(), f)"
   ]
  },
  {
   "cell_type": "code",
   "execution_count": 10,
   "metadata": {},
   "outputs": [],
   "source": [
    "with open('edges.json', 'r') as f:\n",
    "    edges = json.load(f)"
   ]
  },
  {
   "cell_type": "code",
   "execution_count": 11,
   "metadata": {},
   "outputs": [],
   "source": [
    "from netpixi.integration.gt import Graph\n",
    "\n",
    "g = Graph(directed=False) # não-dirigido"
   ]
  },
  {
   "cell_type": "code",
   "execution_count": 12,
   "metadata": {},
   "outputs": [],
   "source": [
    "for edge in edges:\n",
    "    u = int(edge[0])\n",
    "    v = int(edge[1])\n",
    "    if not g.has_vertex(u):\n",
    "        g.add_vertex(u)\n",
    "\n",
    "    if not g.has_vertex(v):\n",
    "        g.add_vertex(v)\n",
    "\n",
    "    if not g.has_edge(u, v):\n",
    "        g.add_edge(u, v)"
   ]
  },
  {
   "cell_type": "code",
   "execution_count": 13,
   "metadata": {},
   "outputs": [
    {
     "data": {
      "text/plain": [
       "76561197960544484"
      ]
     },
     "execution_count": 13,
     "metadata": {},
     "output_type": "execute_result"
    }
   ],
   "source": [
    "u = g.get_vertex(76561197960544484)\n",
    "u.get_id()"
   ]
  },
  {
   "cell_type": "code",
   "execution_count": 14,
   "metadata": {},
   "outputs": [
    {
     "name": "stdout",
     "output_type": "stream",
     "text": [
      "número de arestas de g: 19129\n"
     ]
    }
   ],
   "source": [
    "print('número de arestas de g:', g.num_edges())"
   ]
  },
  {
   "cell_type": "code",
   "execution_count": 24,
   "metadata": {},
   "outputs": [],
   "source": [
    "import netpixi\n",
    "from netpixi.integration.gt import *"
   ]
  },
  {
   "cell_type": "code",
   "execution_count": 19,
   "metadata": {},
   "outputs": [],
   "source": [
    "g = gt_clean(g)\n",
    "m = gt_draw.sfdp_layout(g)\n",
    "gt_move(g, m)"
   ]
  },
  {
   "cell_type": "code",
   "execution_count": 25,
   "metadata": {},
   "outputs": [],
   "source": [
    "gt_save(g, 'reviews_april.net.gz')"
   ]
  },
  {
   "cell_type": "code",
   "execution_count": 27,
   "metadata": {},
   "outputs": [
    {
     "data": {
      "text/html": [
       "\n",
       "        <div id=\"RphBju28xyjvqD4QZ8FSHP\"></div>\n",
       "        <script>netpixi.render('RphBju28xyjvqD4QZ8FSHP', 'reviews_april.net.gz', 1.7777777777777777, true, false, false);</script>\n",
       "    "
      ],
      "text/plain": [
       "<IPython.core.display.HTML object>"
      ]
     },
     "metadata": {},
     "output_type": "display_data"
    }
   ],
   "source": [
    "r = netpixi.render('reviews_april.net.gz')"
   ]
  },
  {
   "cell_type": "code",
   "execution_count": 22,
   "metadata": {},
   "outputs": [
    {
     "data": {
      "text/html": [
       "\n",
       "        <div id=\"9ew4h338LVUt9yJiSd8oJ2\"></div>\n",
       "        <script>netpixi.call('9ew4h338LVUt9yJiSd8oJ2', 'G9eqYuHbmbdcksdvhbE8gg', 'changeGraph', 'eyJ0eXBlIjogInNldHRpbmdzIiwgInByb3BzIjogeyJ2ZXJ0ZXgiOiB7ImNvbG9yIjogMTM5MDIwNTcsICJzaXplIjogMX19fQo=');</script>\n",
       "    "
      ],
      "text/plain": [
       "<IPython.core.display.HTML object>"
      ]
     },
     "metadata": {},
     "output_type": "display_data"
    }
   ],
   "source": [
    "r.vertex_default(color=0xD420E9, size=1)"
   ]
  },
  {
   "cell_type": "code",
   "execution_count": 23,
   "metadata": {},
   "outputs": [
    {
     "data": {
      "text/html": [
       "\n",
       "        <div id=\"4CohQo3Td8fkp9dGtyDks6\"></div>\n",
       "        <script>netpixi.call('4CohQo3Td8fkp9dGtyDks6', 'G9eqYuHbmbdcksdvhbE8gg', 'changeGraph', 'eyJ0eXBlIjogInNldHRpbmdzIiwgInByb3BzIjogeyJlZGdlIjogeyJjb2xvciI6IDE2NzE2ODAxLCAid2lkdGgiOiAzLCAiY3VydmUxIjogMSwgImN1cnZlMiI6IDF9fX0K');</script>\n",
       "    "
      ],
      "text/plain": [
       "<IPython.core.display.HTML object>"
      ]
     },
     "metadata": {},
     "output_type": "display_data"
    }
   ],
   "source": [
    "r.edge_default(color=0xFF1401,width=3,curve1=1,curve2=1)"
   ]
  },
  {
   "cell_type": "code",
   "execution_count": null,
   "metadata": {},
   "outputs": [],
   "source": []
  }
 ],
 "metadata": {
  "kernelspec": {
   "display_name": "Python 3 (ipykernel)",
   "language": "python",
   "name": "python3"
  },
  "language_info": {
   "codemirror_mode": {
    "name": "ipython",
    "version": 3
   },
   "file_extension": ".py",
   "mimetype": "text/x-python",
   "name": "python",
   "nbconvert_exporter": "python",
   "pygments_lexer": "ipython3",
   "version": "3.10.6"
  },
  "vscode": {
   "interpreter": {
    "hash": "986e0f0faee2c6c6a84d3f1e3259f0c117ebe69f65dcb1f0188f6f439ac2fdb9"
   }
  }
 },
 "nbformat": 4,
 "nbformat_minor": 2
}
