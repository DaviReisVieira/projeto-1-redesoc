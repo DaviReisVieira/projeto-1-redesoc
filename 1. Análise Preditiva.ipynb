{
 "cells": [
  {
   "cell_type": "code",
   "execution_count": 1,
   "metadata": {},
   "outputs": [
    {
     "data": {
      "text/html": [
       "\n",
       "    <script src=\"/files/netpixi.min.js\"></script>\n"
      ],
      "text/plain": [
       "<IPython.core.display.HTML object>"
      ]
     },
     "metadata": {},
     "output_type": "display_data"
    }
   ],
   "source": [
    "import netpixi\n",
    "import json\n",
    "import numpy as np\n",
    "import pandas as pd\n",
    "import matplotlib.pyplot as plt"
   ]
  },
  {
   "cell_type": "code",
   "execution_count": 2,
   "metadata": {},
   "outputs": [],
   "source": [
    "df = pd.read_csv('reviews_july.csv', sep=',')"
   ]
  },
  {
   "cell_type": "code",
   "execution_count": 3,
   "metadata": {},
   "outputs": [
    {
     "data": {
      "text/html": [
       "<div>\n",
       "<style scoped>\n",
       "    .dataframe tbody tr th:only-of-type {\n",
       "        vertical-align: middle;\n",
       "    }\n",
       "\n",
       "    .dataframe tbody tr th {\n",
       "        vertical-align: top;\n",
       "    }\n",
       "\n",
       "    .dataframe thead th {\n",
       "        text-align: right;\n",
       "    }\n",
       "</style>\n",
       "<table border=\"1\" class=\"dataframe\">\n",
       "  <thead>\n",
       "    <tr style=\"text-align: right;\">\n",
       "      <th></th>\n",
       "      <th>app_id</th>\n",
       "      <th>app_name</th>\n",
       "      <th>review_id</th>\n",
       "      <th>language</th>\n",
       "      <th>review</th>\n",
       "      <th>timestamp_created</th>\n",
       "      <th>timestamp_updated</th>\n",
       "      <th>recommended</th>\n",
       "      <th>votes_helpful</th>\n",
       "      <th>votes_funny</th>\n",
       "      <th>...</th>\n",
       "      <th>steam_purchase</th>\n",
       "      <th>received_for_free</th>\n",
       "      <th>written_during_early_access</th>\n",
       "      <th>author.steamid</th>\n",
       "      <th>author.num_games_owned</th>\n",
       "      <th>author.num_reviews</th>\n",
       "      <th>author.playtime_forever</th>\n",
       "      <th>author.playtime_last_two_weeks</th>\n",
       "      <th>author.playtime_at_review</th>\n",
       "      <th>author.last_played</th>\n",
       "    </tr>\n",
       "  </thead>\n",
       "  <tbody>\n",
       "    <tr>\n",
       "      <th>0</th>\n",
       "      <td>292030</td>\n",
       "      <td>The Witcher 3: Wild Hunt</td>\n",
       "      <td>73579864</td>\n",
       "      <td>brazilian</td>\n",
       "      <td>I'll only speak about performance, since we al...</td>\n",
       "      <td>2020-07-31 22:19:22</td>\n",
       "      <td>2020-07-31 22:19:22</td>\n",
       "      <td>True</td>\n",
       "      <td>0</td>\n",
       "      <td>0</td>\n",
       "      <td>...</td>\n",
       "      <td>True</td>\n",
       "      <td>False</td>\n",
       "      <td>False</td>\n",
       "      <td>76561198074616040</td>\n",
       "      <td>148</td>\n",
       "      <td>12</td>\n",
       "      <td>29259.0</td>\n",
       "      <td>0.0</td>\n",
       "      <td>18588.0</td>\n",
       "      <td>1.597875e+09</td>\n",
       "    </tr>\n",
       "    <tr>\n",
       "      <th>1</th>\n",
       "      <td>292030</td>\n",
       "      <td>The Witcher 3: Wild Hunt</td>\n",
       "      <td>73576952</td>\n",
       "      <td>brazilian</td>\n",
       "      <td>Não tenho palavras para dizer como esse jogo e...</td>\n",
       "      <td>2020-07-31 20:46:46</td>\n",
       "      <td>2020-07-31 20:48:04</td>\n",
       "      <td>True</td>\n",
       "      <td>1</td>\n",
       "      <td>0</td>\n",
       "      <td>...</td>\n",
       "      <td>True</td>\n",
       "      <td>False</td>\n",
       "      <td>False</td>\n",
       "      <td>76561198120075031</td>\n",
       "      <td>38</td>\n",
       "      <td>9</td>\n",
       "      <td>4389.0</td>\n",
       "      <td>0.0</td>\n",
       "      <td>4389.0</td>\n",
       "      <td>1.557089e+09</td>\n",
       "    </tr>\n",
       "    <tr>\n",
       "      <th>2</th>\n",
       "      <td>292030</td>\n",
       "      <td>The Witcher 3: Wild Hunt</td>\n",
       "      <td>73575959</td>\n",
       "      <td>brazilian</td>\n",
       "      <td>Epic</td>\n",
       "      <td>2020-07-31 20:17:38</td>\n",
       "      <td>2020-07-31 20:17:38</td>\n",
       "      <td>True</td>\n",
       "      <td>0</td>\n",
       "      <td>0</td>\n",
       "      <td>...</td>\n",
       "      <td>True</td>\n",
       "      <td>False</td>\n",
       "      <td>False</td>\n",
       "      <td>76561198101494872</td>\n",
       "      <td>25</td>\n",
       "      <td>1</td>\n",
       "      <td>6653.0</td>\n",
       "      <td>0.0</td>\n",
       "      <td>4136.0</td>\n",
       "      <td>1.608502e+09</td>\n",
       "    </tr>\n",
       "    <tr>\n",
       "      <th>3</th>\n",
       "      <td>292030</td>\n",
       "      <td>The Witcher 3: Wild Hunt</td>\n",
       "      <td>73575666</td>\n",
       "      <td>brazilian</td>\n",
       "      <td>Melhor jogo do fucking universo, compre isso e...</td>\n",
       "      <td>2020-07-31 20:09:24</td>\n",
       "      <td>2020-07-31 20:09:24</td>\n",
       "      <td>True</td>\n",
       "      <td>1</td>\n",
       "      <td>0</td>\n",
       "      <td>...</td>\n",
       "      <td>True</td>\n",
       "      <td>False</td>\n",
       "      <td>False</td>\n",
       "      <td>76561198032616918</td>\n",
       "      <td>80</td>\n",
       "      <td>2</td>\n",
       "      <td>24894.0</td>\n",
       "      <td>0.0</td>\n",
       "      <td>18568.0</td>\n",
       "      <td>1.608581e+09</td>\n",
       "    </tr>\n",
       "    <tr>\n",
       "      <th>4</th>\n",
       "      <td>292030</td>\n",
       "      <td>The Witcher 3: Wild Hunt</td>\n",
       "      <td>73574848</td>\n",
       "      <td>brazilian</td>\n",
       "      <td>Um dos melhores games já feito.</td>\n",
       "      <td>2020-07-31 19:45:16</td>\n",
       "      <td>2020-07-31 19:45:16</td>\n",
       "      <td>True</td>\n",
       "      <td>1</td>\n",
       "      <td>0</td>\n",
       "      <td>...</td>\n",
       "      <td>True</td>\n",
       "      <td>False</td>\n",
       "      <td>False</td>\n",
       "      <td>76561198276339634</td>\n",
       "      <td>37</td>\n",
       "      <td>4</td>\n",
       "      <td>7796.0</td>\n",
       "      <td>0.0</td>\n",
       "      <td>7755.0</td>\n",
       "      <td>1.596227e+09</td>\n",
       "    </tr>\n",
       "  </tbody>\n",
       "</table>\n",
       "<p>5 rows × 22 columns</p>\n",
       "</div>"
      ],
      "text/plain": [
       "   app_id                  app_name  review_id   language  \\\n",
       "0  292030  The Witcher 3: Wild Hunt   73579864  brazilian   \n",
       "1  292030  The Witcher 3: Wild Hunt   73576952  brazilian   \n",
       "2  292030  The Witcher 3: Wild Hunt   73575959  brazilian   \n",
       "3  292030  The Witcher 3: Wild Hunt   73575666  brazilian   \n",
       "4  292030  The Witcher 3: Wild Hunt   73574848  brazilian   \n",
       "\n",
       "                                              review    timestamp_created  \\\n",
       "0  I'll only speak about performance, since we al...  2020-07-31 22:19:22   \n",
       "1  Não tenho palavras para dizer como esse jogo e...  2020-07-31 20:46:46   \n",
       "2                                               Epic  2020-07-31 20:17:38   \n",
       "3  Melhor jogo do fucking universo, compre isso e...  2020-07-31 20:09:24   \n",
       "4                    Um dos melhores games já feito.  2020-07-31 19:45:16   \n",
       "\n",
       "     timestamp_updated  recommended  votes_helpful  votes_funny  ...  \\\n",
       "0  2020-07-31 22:19:22         True              0            0  ...   \n",
       "1  2020-07-31 20:48:04         True              1            0  ...   \n",
       "2  2020-07-31 20:17:38         True              0            0  ...   \n",
       "3  2020-07-31 20:09:24         True              1            0  ...   \n",
       "4  2020-07-31 19:45:16         True              1            0  ...   \n",
       "\n",
       "   steam_purchase  received_for_free  written_during_early_access  \\\n",
       "0            True              False                        False   \n",
       "1            True              False                        False   \n",
       "2            True              False                        False   \n",
       "3            True              False                        False   \n",
       "4            True              False                        False   \n",
       "\n",
       "      author.steamid  author.num_games_owned  author.num_reviews  \\\n",
       "0  76561198074616040                     148                  12   \n",
       "1  76561198120075031                      38                   9   \n",
       "2  76561198101494872                      25                   1   \n",
       "3  76561198032616918                      80                   2   \n",
       "4  76561198276339634                      37                   4   \n",
       "\n",
       "   author.playtime_forever  author.playtime_last_two_weeks  \\\n",
       "0                  29259.0                             0.0   \n",
       "1                   4389.0                             0.0   \n",
       "2                   6653.0                             0.0   \n",
       "3                  24894.0                             0.0   \n",
       "4                   7796.0                             0.0   \n",
       "\n",
       "   author.playtime_at_review  author.last_played  \n",
       "0                    18588.0        1.597875e+09  \n",
       "1                     4389.0        1.557089e+09  \n",
       "2                     4136.0        1.608502e+09  \n",
       "3                    18568.0        1.608581e+09  \n",
       "4                     7755.0        1.596227e+09  \n",
       "\n",
       "[5 rows x 22 columns]"
      ]
     },
     "execution_count": 3,
     "metadata": {},
     "output_type": "execute_result"
    }
   ],
   "source": [
    "df.head()"
   ]
  },
  {
   "cell_type": "code",
   "execution_count": 4,
   "metadata": {},
   "outputs": [
    {
     "name": "stdout",
     "output_type": "stream",
     "text": [
      "<class 'pandas.core.frame.DataFrame'>\n",
      "RangeIndex: 80068 entries, 0 to 80067\n",
      "Data columns (total 22 columns):\n",
      " #   Column                          Non-Null Count  Dtype  \n",
      "---  ------                          --------------  -----  \n",
      " 0   app_id                          80068 non-null  int64  \n",
      " 1   app_name                        80068 non-null  object \n",
      " 2   review_id                       80068 non-null  int64  \n",
      " 3   language                        80068 non-null  object \n",
      " 4   review                          80025 non-null  object \n",
      " 5   timestamp_created               80068 non-null  object \n",
      " 6   timestamp_updated               80068 non-null  object \n",
      " 7   recommended                     80068 non-null  bool   \n",
      " 8   votes_helpful                   80068 non-null  int64  \n",
      " 9   votes_funny                     80068 non-null  int64  \n",
      " 10  weighted_vote_score             80068 non-null  float64\n",
      " 11  comment_count                   80068 non-null  int64  \n",
      " 12  steam_purchase                  80068 non-null  bool   \n",
      " 13  received_for_free               80068 non-null  bool   \n",
      " 14  written_during_early_access     80068 non-null  bool   \n",
      " 15  author.steamid                  80068 non-null  int64  \n",
      " 16  author.num_games_owned          80068 non-null  int64  \n",
      " 17  author.num_reviews              80068 non-null  int64  \n",
      " 18  author.playtime_forever         80068 non-null  float64\n",
      " 19  author.playtime_last_two_weeks  80068 non-null  float64\n",
      " 20  author.playtime_at_review       80028 non-null  float64\n",
      " 21  author.last_played              80068 non-null  float64\n",
      "dtypes: bool(4), float64(5), int64(8), object(5)\n",
      "memory usage: 11.3+ MB\n"
     ]
    }
   ],
   "source": [
    "df.info()"
   ]
  },
  {
   "cell_type": "markdown",
   "metadata": {},
   "source": [
    "- Criando coluna para variável de Controle\n"
   ]
  },
  {
   "cell_type": "code",
   "execution_count": 5,
   "metadata": {},
   "outputs": [],
   "source": [
    "df['level_of_positivite'] = df.groupby('author.steamid')['recommended'].transform(lambda x: x.sum() / x.count())"
   ]
  },
  {
   "cell_type": "code",
   "execution_count": 6,
   "metadata": {},
   "outputs": [],
   "source": [
    "def get_edges(df):\n",
    "    users = df['author.steamid'].unique()\n",
    "    \n",
    "    edges = []\n",
    "    for user in users:\n",
    "        games = df[df['author.steamid']==user]['app_name'].unique()\n",
    "        for game in games:\n",
    "            users_game = df[df['app_name']==game]['author.steamid'].unique()\n",
    "            for user_game in users_game:\n",
    "                if user_game != user:\n",
    "                    edges.append(tuple(sorted([user, user_game])))\n",
    "    \n",
    "    edges = np.array(edges)\n",
    "\n",
    "    edges, counts = np.unique(edges, axis=0, return_counts=True)\n",
    "\n",
    "    mean = np.mean(counts)\n",
    "\n",
    "    edges = edges[counts>mean]\n",
    "    \n",
    "    \n",
    "    return edges"
   ]
  },
  {
   "cell_type": "code",
   "execution_count": 8,
   "metadata": {},
   "outputs": [
    {
     "data": {
      "text/plain": [
       "array([[76561197961125336, 76561198113760204],\n",
       "       [76561197961125336, 76561198170383927],\n",
       "       [76561197961125336, 76561198294691999],\n",
       "       ...,\n",
       "       [76561199065876387, 76561199072921742],\n",
       "       [76561199067935794, 76561199073762667],\n",
       "       [76561199070809388, 76561199071222055]], dtype=int64)"
      ]
     },
     "execution_count": 8,
     "metadata": {},
     "output_type": "execute_result"
    }
   ],
   "source": [
    "edges = get_edges(df)\n",
    "edges"
   ]
  },
  {
   "cell_type": "code",
   "execution_count": 9,
   "metadata": {},
   "outputs": [],
   "source": [
    "# save edges in json file\n",
    "with open('edges.json', 'w') as f:\n",
    "    json.dump(edges.tolist(), f)"
   ]
  },
  {
   "cell_type": "code",
   "execution_count": 7,
   "metadata": {},
   "outputs": [],
   "source": [
    "with open('edges.json', 'r') as f:\n",
    "    edges = json.load(f)"
   ]
  },
  {
   "cell_type": "code",
   "execution_count": 8,
   "metadata": {},
   "outputs": [],
   "source": [
    "from netpixi.integration.gt import Graph\n",
    "\n",
    "g = Graph(directed=False) # não-dirigido"
   ]
  },
  {
   "cell_type": "code",
   "execution_count": 9,
   "metadata": {},
   "outputs": [],
   "source": [
    "for edge in edges:\n",
    "    u = int(edge[0])\n",
    "    v = int(edge[1])\n",
    "    if not g.has_vertex(u):\n",
    "        g.add_vertex(u)\n",
    "\n",
    "    if not g.has_vertex(v):\n",
    "        g.add_vertex(v)\n",
    "\n",
    "    if not g.has_edge(u, v):\n",
    "        g.add_edge(u, v)"
   ]
  },
  {
   "cell_type": "code",
   "execution_count": 11,
   "metadata": {},
   "outputs": [
    {
     "name": "stdout",
     "output_type": "stream",
     "text": [
      "número de arestas de g: 89296\n"
     ]
    }
   ],
   "source": [
    "print('número de arestas de g:', g.num_edges())"
   ]
  },
  {
   "cell_type": "code",
   "execution_count": 12,
   "metadata": {},
   "outputs": [],
   "source": [
    "import netpixi\n",
    "from netpixi.integration.gt import *"
   ]
  },
  {
   "cell_type": "code",
   "execution_count": 13,
   "metadata": {},
   "outputs": [],
   "source": [
    "g = gt_clean(g)\n",
    "m = gt_draw.sfdp_layout(g)\n",
    "gt_move(g, m)"
   ]
  },
  {
   "cell_type": "code",
   "execution_count": 14,
   "metadata": {},
   "outputs": [],
   "source": [
    "gt_save(g, 'reviews_july.net.gz')"
   ]
  },
  {
   "cell_type": "code",
   "execution_count": 15,
   "metadata": {},
   "outputs": [
    {
     "data": {
      "text/html": [
       "\n",
       "        <div id=\"QF5eyNggbhoWRPR2hR7mv2\"></div>\n",
       "        <script>netpixi.render('QF5eyNggbhoWRPR2hR7mv2', 'reviews_july.net.gz', 1.7777777777777777, true, false, false);</script>\n",
       "    "
      ],
      "text/plain": [
       "<IPython.core.display.HTML object>"
      ]
     },
     "metadata": {},
     "output_type": "display_data"
    }
   ],
   "source": [
    "r = netpixi.render('reviews_july.net.gz')"
   ]
  },
  {
   "cell_type": "code",
   "execution_count": 16,
   "metadata": {},
   "outputs": [
    {
     "data": {
      "text/html": [
       "\n",
       "        <div id=\"365KZcnRvEeGGGtL5uVTNh\"></div>\n",
       "        <script>netpixi.call('365KZcnRvEeGGGtL5uVTNh', 'QF5eyNggbhoWRPR2hR7mv2', 'changeGraph', 'eyJ0eXBlIjogInNldHRpbmdzIiwgInByb3BzIjogeyJ2ZXJ0ZXgiOiB7ImNvbG9yIjogMTM5MDIwNTcsICJzaXplIjogMX19fQo=');</script>\n",
       "    "
      ],
      "text/plain": [
       "<IPython.core.display.HTML object>"
      ]
     },
     "metadata": {},
     "output_type": "display_data"
    }
   ],
   "source": [
    "r.vertex_default(color=0xD420E9, size=1)"
   ]
  },
  {
   "cell_type": "code",
   "execution_count": 17,
   "metadata": {},
   "outputs": [
    {
     "data": {
      "text/html": [
       "\n",
       "        <div id=\"XYjyFvhkNELK29bpj4Da4b\"></div>\n",
       "        <script>netpixi.call('XYjyFvhkNELK29bpj4Da4b', 'QF5eyNggbhoWRPR2hR7mv2', 'changeGraph', 'eyJ0eXBlIjogInNldHRpbmdzIiwgInByb3BzIjogeyJlZGdlIjogeyJjb2xvciI6IDE2NzE2ODAxLCAid2lkdGgiOiAzLCAiY3VydmUxIjogMSwgImN1cnZlMiI6IDF9fX0K');</script>\n",
       "    "
      ],
      "text/plain": [
       "<IPython.core.display.HTML object>"
      ]
     },
     "metadata": {},
     "output_type": "display_data"
    }
   ],
   "source": [
    "r.edge_default(color=0xFF1401,width=3,curve1=1,curve2=1)"
   ]
  },
  {
   "cell_type": "code",
   "execution_count": null,
   "metadata": {},
   "outputs": [],
   "source": []
  }
 ],
 "metadata": {
  "kernelspec": {
   "display_name": "Python 3 (ipykernel)",
   "language": "python",
   "name": "python3"
  },
  "language_info": {
   "codemirror_mode": {
    "name": "ipython",
    "version": 3
   },
   "file_extension": ".py",
   "mimetype": "text/x-python",
   "name": "python",
   "nbconvert_exporter": "python",
   "pygments_lexer": "ipython3",
   "version": "3.10.6"
  },
  "vscode": {
   "interpreter": {
    "hash": "ae8acc89fe27c5f770623c9adb18f004c955dab4a85cbaeaba75e984c41af39c"
   }
  }
 },
 "nbformat": 4,
 "nbformat_minor": 2
}
